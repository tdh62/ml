{
 "cells": [
  {
   "cell_type": "markdown",
   "metadata": {},
   "source": [
    "## 使用 Python 和 Numpy 实现神经网络模型\n",
    "\n",
    "### 读取并预处理数据\n"
   ]
  },
  {
   "cell_type": "markdown",
   "metadata": {},
   "source": [
    "对应文章地址：https://ml.tdh6.top/archives/150"
   ]
  },
  {
   "cell_type": "code",
   "execution_count": 1,
   "metadata": {},
   "outputs": [],
   "source": [
    "# 导入库\n",
    "import numpy as np\n"
   ]
  },
  {
   "cell_type": "code",
   "execution_count": 233,
   "metadata": {},
   "outputs": [
    {
     "data": {
      "text/plain": [
       "array([6.320e-03, 1.800e+01, 2.310e+00, ..., 3.969e+02, 7.880e+00,\n",
       "       1.190e+01])"
      ]
     },
     "execution_count": 233,
     "metadata": {},
     "output_type": "execute_result"
    }
   ],
   "source": [
    "raw_datas = np.fromfile('housing.txt', sep=' ')\n",
    "raw_datas"
   ]
  },
  {
   "cell_type": "code",
   "execution_count": 237,
   "metadata": {},
   "outputs": [],
   "source": [
    "# 特征处理\n",
    "features = [ 'CRIM', 'ZN', 'INDUS', 'CHAS', 'NOX', 'RM', 'AGE','DIS', \n",
    "                 'RAD', 'TAX', 'PTRATIO', 'B', 'LSTAT', 'MEDV' ]\n",
    "raw_datas.resize([len(raw_datas) // len(features),len(features)])"
   ]
  },
  {
   "cell_type": "code",
   "execution_count": 238,
   "metadata": {},
   "outputs": [
    {
     "data": {
      "text/plain": [
       "(506, 14)"
      ]
     },
     "execution_count": 238,
     "metadata": {},
     "output_type": "execute_result"
    }
   ],
   "source": [
    "raw_datas.shape"
   ]
  },
  {
   "cell_type": "code",
   "execution_count": 240,
   "metadata": {},
   "outputs": [
    {
     "data": {
      "text/plain": [
       "array([6.320e-03, 1.800e+01, 2.310e+00, 0.000e+00, 5.380e-01, 6.575e+00,\n",
       "       6.520e+01, 4.090e+00, 1.000e+00, 2.960e+02, 1.530e+01, 3.969e+02,\n",
       "       4.980e+00, 2.400e+01])"
      ]
     },
     "execution_count": 240,
     "metadata": {},
     "output_type": "execute_result"
    }
   ],
   "source": [
    "raw_datas[0]"
   ]
  },
  {
   "cell_type": "code",
   "execution_count": 241,
   "metadata": {},
   "outputs": [],
   "source": [
    "# 标准化\n",
    "def norm(x):\n",
    "    return (x - np.mean(x)) / (np.max(x) - np.min(x))\n",
    "norm_raw_datas = norm(raw_datas)"
   ]
  },
  {
   "cell_type": "code",
   "execution_count": 284,
   "metadata": {},
   "outputs": [],
   "source": [
    "# 抽取训练集和测试集\n",
    "\n",
    "train_data = norm_raw_datas[:400]\n",
    "test_data = norm_raw_datas[400:]\n",
    "\n",
    "# 抽取预测标签\n",
    "train_data = train_data[:,:-1]\n",
    "test_data = test_data[:,:-1]\n",
    "train_label = train_data[:,-1]\n",
    "test_label = test_data[:,-1]\n"
   ]
  },
  {
   "cell_type": "code",
   "execution_count": 291,
   "metadata": {},
   "outputs": [],
   "source": [
    "def loss(z, y):\n",
    "    error = z - y\n",
    "    num_samples = error.shape[0]\n",
    "    cost = error * error\n",
    "    cost = np.sum(cost) / num_samples\n",
    "    return cost"
   ]
  },
  {
   "cell_type": "code",
   "execution_count": 297,
   "metadata": {},
   "outputs": [],
   "source": [
    "def loss(pred,real):\n",
    "    e = pred - real\n",
    "    n = e.shape[0]\n",
    "    c = e * e\n",
    "    return np.sum(c)/n"
   ]
  },
  {
   "cell_type": "code",
   "execution_count": 292,
   "metadata": {},
   "outputs": [],
   "source": [
    "# 初始化模型参数\n",
    "x_in = train_data\n",
    "x_mid = np.random.randn(13)\n",
    "x_out = np.random.randn(13)\n",
    "w_l1 = np.random.randn(13*13).reshape(13,13)\n",
    "w_l2 = np.random.randn(13)\n",
    "b_l1 = np.random.randn(13)\n",
    "b_l2 = np.random.randn(1)"
   ]
  },
  {
   "cell_type": "code",
   "execution_count": 250,
   "metadata": {},
   "outputs": [],
   "source": [
    "x_mid = np.dot(x_in,w_l1) + b_l1"
   ]
  },
  {
   "cell_type": "code",
   "execution_count": 251,
   "metadata": {},
   "outputs": [],
   "source": [
    "x_out = np.dot(x_mid,w_l2) + b_l2"
   ]
  },
  {
   "cell_type": "code",
   "execution_count": 252,
   "metadata": {},
   "outputs": [
    {
     "data": {
      "text/plain": [
       "15.469914421039276"
      ]
     },
     "execution_count": 252,
     "metadata": {},
     "output_type": "execute_result"
    }
   ],
   "source": [
    "loss(x_out,train_label)"
   ]
  },
  {
   "cell_type": "code",
   "execution_count": 226,
   "metadata": {},
   "outputs": [],
   "source": [
    "# 梯度计算"
   ]
  },
  {
   "cell_type": "code",
   "execution_count": 274,
   "metadata": {},
   "outputs": [],
   "source": [
    "grad_l2 = np.mean((x_out - train_label).reshape(400,1) * x_mid,axis = 0)\n",
    "w_l2 = w_l2 - (0.01 * w_l2)"
   ]
  },
  {
   "cell_type": "code",
   "execution_count": 275,
   "metadata": {},
   "outputs": [],
   "source": [
    "grad_l1 = np.mean((x_out - train_label).reshape(400,1) * x_in,axis = 0)\n",
    "w_l1 = w_l1 - (0.01 * w_l1)"
   ]
  },
  {
   "cell_type": "code",
   "execution_count": 276,
   "metadata": {},
   "outputs": [],
   "source": [
    "grad_b2 = np.mean((x_out - train_label).reshape(400,1),axis = 0)\n",
    "grad_b1 = np.mean((x_out - train_label).reshape(400,1),axis = 0)\n",
    "b_l2 = b_l2 - (grad_b2 * eta)\n",
    "b_l1 = b_l1 - (grad_b1 * eta)"
   ]
  },
  {
   "cell_type": "code",
   "execution_count": 298,
   "metadata": {},
   "outputs": [
    {
     "data": {
      "text/plain": [
       "10.38190503667864"
      ]
     },
     "execution_count": 298,
     "metadata": {},
     "output_type": "execute_result"
    }
   ],
   "source": [
    "x_mid = np.dot(x_in,w_l1) + b_l1\n",
    "x_out = np.dot(x_mid,w_l2) + b_l2\n",
    "loss(x_out,train_label)"
   ]
  },
  {
   "cell_type": "code",
   "execution_count": 230,
   "metadata": {},
   "outputs": [
    {
     "data": {
      "text/plain": [
       "49.78964997141533"
      ]
     },
     "execution_count": 230,
     "metadata": {},
     "output_type": "execute_result"
    }
   ],
   "source": [
    "# 损失计算\n",
    "loss(x_out,train_label)"
   ]
  },
  {
   "cell_type": "code",
   "execution_count": 294,
   "metadata": {},
   "outputs": [
    {
     "data": {
      "text/plain": [
       "12.39999885900921"
      ]
     },
     "execution_count": 294,
     "metadata": {},
     "output_type": "execute_result"
    }
   ],
   "source": [
    "test_in = test_data\n",
    "x_mid = np.dot(test_in,w_l1) + b_l1\n",
    "x_out = np.dot(x_mid,w_l2) + b_l2\n",
    "loss(x_out,test_label)"
   ]
  },
  {
   "cell_type": "code",
   "execution_count": 315,
   "metadata": {},
   "outputs": [
    {
     "name": "stdout",
     "output_type": "stream",
     "text": [
      "第0轮训练，val_loss：7.980471\tloss:7.980471\n",
      "第1轮训练，val_loss：7.033357\tloss:7.033357\n",
      "第2轮训练，val_loss：6.203279\tloss:6.203279\n",
      "第3轮训练，val_loss：5.475114\tloss:5.475114\n",
      "第4轮训练，val_loss：4.835781\tloss:4.835781\n",
      "第5轮训练，val_loss：4.273951\tloss:4.273951\n",
      "第6轮训练，val_loss：3.779804\tloss:3.779804\n",
      "第7轮训练，val_loss：3.344822\tloss:3.344822\n",
      "第8轮训练，val_loss：2.961604\tloss:2.961604\n",
      "第9轮训练，val_loss：2.623720\tloss:2.623720\n",
      "第10轮训练，val_loss：2.325572\tloss:2.325572\n",
      "第11轮训练，val_loss：2.062285\tloss:2.062285\n",
      "第12轮训练，val_loss：1.829610\tloss:1.829610\n",
      "第13轮训练，val_loss：1.623838\tloss:1.623838\n",
      "第14轮训练，val_loss：1.441733\tloss:1.441733\n",
      "第15轮训练，val_loss：1.280461\tloss:1.280461\n",
      "第16轮训练，val_loss：1.137547\tloss:1.137547\n",
      "第17轮训练，val_loss：1.010822\tloss:1.010822\n",
      "第18轮训练，val_loss：0.898384\tloss:0.898384\n",
      "第19轮训练，val_loss：0.798566\tloss:0.798566\n",
      "第20轮训练，val_loss：0.709904\tloss:0.709904\n",
      "第21轮训练，val_loss：0.631110\tloss:0.631110\n",
      "第22轮训练，val_loss：0.561054\tloss:0.561054\n",
      "第23轮训练，val_loss：0.498739\tloss:0.498739\n",
      "第24轮训练，val_loss：0.443289\tloss:0.443289\n",
      "第25轮训练，val_loss：0.393929\tloss:0.393929\n",
      "第26轮训练，val_loss：0.349977\tloss:0.349977\n",
      "第27轮训练，val_loss：0.310830\tloss:0.310830\n",
      "第28轮训练，val_loss：0.275957\tloss:0.275957\n",
      "第29轮训练，val_loss：0.244885\tloss:0.244885\n",
      "第30轮训练，val_loss：0.217199\tloss:0.217199\n",
      "第31轮训练，val_loss：0.192529\tloss:0.192529\n",
      "第32轮训练，val_loss：0.170547\tloss:0.170547\n",
      "第33轮训练，val_loss：0.150964\tloss:0.150964\n",
      "第34轮训练，val_loss：0.133522\tloss:0.133522\n",
      "第35轮训练，val_loss：0.117992\tloss:0.117992\n",
      "第36轮训练，val_loss：0.104170\tloss:0.104170\n",
      "第37轮训练，val_loss：0.091876\tloss:0.091876\n",
      "第38轮训练，val_loss：0.080948\tloss:0.080948\n",
      "第39轮训练，val_loss：0.071244\tloss:0.071244\n",
      "第40轮训练，val_loss：0.062635\tloss:0.062635\n",
      "第41轮训练，val_loss：0.055007\tloss:0.055007\n",
      "第42轮训练，val_loss：0.048258\tloss:0.048258\n",
      "第43轮训练，val_loss：0.042298\tloss:0.042298\n",
      "第44轮训练，val_loss：0.037045\tloss:0.037045\n",
      "第45轮训练，val_loss：0.032427\tloss:0.032427\n",
      "第46轮训练，val_loss：0.028379\tloss:0.028379\n",
      "第47轮训练，val_loss：0.024842\tloss:0.024842\n",
      "第48轮训练，val_loss：0.021765\tloss:0.021765\n",
      "第49轮训练，val_loss：0.019101\tloss:0.019101\n",
      "第50轮训练，val_loss：0.016808\tloss:0.016808\n",
      "第51轮训练，val_loss：0.014849\tloss:0.014849\n",
      "第52轮训练，val_loss：0.013189\tloss:0.013189\n",
      "第53轮训练，val_loss：0.011799\tloss:0.011799\n",
      "第54轮训练，val_loss：0.010651\tloss:0.010651\n",
      "第55轮训练，val_loss：0.009721\tloss:0.009721\n",
      "第56轮训练，val_loss：0.008988\tloss:0.008988\n",
      "第57轮训练，val_loss：0.008430\tloss:0.008430\n",
      "第58轮训练，val_loss：0.008031\tloss:0.008031\n",
      "第59轮训练，val_loss：0.007775\tloss:0.007775\n",
      "第60轮训练，val_loss：0.007646\tloss:0.007646\n",
      "第61轮训练，val_loss：0.007633\tloss:0.007633\n",
      "第62轮训练，val_loss：0.007723\tloss:0.007723\n",
      "第63轮训练，val_loss：0.007905\tloss:0.007905\n",
      "第64轮训练，val_loss：0.008171\tloss:0.008171\n",
      "第65轮训练，val_loss：0.008511\tloss:0.008511\n",
      "第66轮训练，val_loss：0.008917\tloss:0.008917\n"
     ]
    }
   ],
   "source": [
    "def loss(pred,real):\n",
    "    e = pred - real\n",
    "    n = e.shape[0]\n",
    "    c = e * e\n",
    "    return np.sum(c)/n\n",
    "\n",
    "x_in = train_data\n",
    "x_mid = np.random.randn(13)\n",
    "x_out = np.random.randn(13)\n",
    "w_l1 = np.random.randn(13*13).reshape(13,13)\n",
    "w_l2 = np.random.randn(13)\n",
    "b_l1 = np.random.randn(13)\n",
    "b_l2 = np.random.randn(1)\n",
    "\n",
    "def test_loss():\n",
    "    test_in = test_data\n",
    "    x_mid = np.dot(test_in,w_l1) + b_l1\n",
    "    x_out = np.dot(x_mid,w_l2) + b_l2\n",
    "    return loss(x_out,test_label)\n",
    "\n",
    "max_loop = 500 # 最大循环次数\n",
    "early_stop_wait = 5 # 当测试集损失不再下降几轮之后停止训练\n",
    "not_min_count = 0 # 计数用变量\n",
    "min_temp = 0 # 临时变量\n",
    "\n",
    "for i in range(max_loop):\n",
    "    # 计算前向计算结果\n",
    "    x_mid = np.dot(x_in,w_l1) + b_l1\n",
    "    x_out = np.dot(x_mid,w_l2) + b_l2\n",
    "    \n",
    "    # 计算梯度\n",
    "    grad_l2 = np.mean((x_out - train_label).reshape(400,1) * x_mid,axis = 0)\n",
    "    grad_l1 = np.mean((x_out - train_label).reshape(400,1) * x_in,axis = 0)\n",
    "    grad_b2 = np.mean((x_out - train_label).reshape(400,1),axis = 0)\n",
    "    grad_b1 = np.mean((x_out - train_label).reshape(400,1),axis = 0)\n",
    "    \n",
    "    # 权重调整\n",
    "    w_l2 = w_l2 - (0.01 * w_l2)\n",
    "    w_l1 = w_l1 - (0.01 * w_l1)\n",
    "    b_l2 = b_l2 - (grad_b2 * eta)\n",
    "    b_l1 = b_l1 - (grad_b1 * eta)\n",
    "    \n",
    "    # 验证模型\n",
    "    nowloss = loss(x_out,train_label)\n",
    "    \n",
    "    # 验证模型并提前停止\n",
    "    if(i == 0):\n",
    "        min_temp = loss(x_out,train_label)\n",
    "    elif (min_temp > nowloss):\n",
    "        min_temp = nowloss\n",
    "        not_min_count = 0\n",
    "    else:\n",
    "        not_min_count += 1\n",
    "        if not_min_count > early_stop_wait:\n",
    "            break;\n",
    "    \n",
    "    print(\"第\" +  str(i)  + \"轮训练，val_loss：\" + str(nowloss)[:8] + \"\\tloss:\" + str(loss(x_out,train_label))[:8] )\n",
    "\n"
   ]
  }
 ],
 "metadata": {
  "kernelspec": {
   "display_name": "Python 3",
   "language": "python",
   "name": "python3"
  },
  "language_info": {
   "codemirror_mode": {
    "name": "ipython",
    "version": 3
   },
   "file_extension": ".py",
   "mimetype": "text/x-python",
   "name": "python",
   "nbconvert_exporter": "python",
   "pygments_lexer": "ipython3",
   "version": "3.6.9"
  }
 },
 "nbformat": 4,
 "nbformat_minor": 4
}
